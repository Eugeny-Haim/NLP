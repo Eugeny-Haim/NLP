{
 "cells": [
  {
   "cell_type": "code",
   "execution_count": null,
   "id": "0134074d",
   "metadata": {},
   "outputs": [],
   "source": [
    "import numpy as np\n",
    "import cv2\n",
    "import matplotlib.pyplot as plt\n"
   ]
  },
  {
   "cell_type": "code",
   "execution_count": null,
   "id": "869883d4",
   "metadata": {},
   "outputs": [],
   "source": [
    "def display(img):\n",
    "    plt.figure(figsize=(25,20))\n",
    "    plt.imshow(img)"
   ]
  },
  {
   "cell_type": "code",
   "execution_count": null,
   "id": "4c2bd5ad",
   "metadata": {},
   "outputs": [],
   "source": [
    "id_blured = cv2.imread('id_clear.jpeg')"
   ]
  },
  {
   "cell_type": "code",
   "execution_count": null,
   "id": "217aaa63",
   "metadata": {},
   "outputs": [],
   "source": [
    "img_blur = cv2.medianBlur(id_blured, 27)"
   ]
  },
  {
   "cell_type": "code",
   "execution_count": null,
   "id": "d5a654e0",
   "metadata": {},
   "outputs": [],
   "source": [
    "img_gray = cv2.cvtColor(img_blur, cv2.COLOR_BGR2GRAY)"
   ]
  },
  {
   "cell_type": "code",
   "execution_count": null,
   "id": "5de4c1b6",
   "metadata": {},
   "outputs": [],
   "source": [
    "countours, hierarchy = cv2.findContours(thresh.copy(), cv2.RETR_CCOMP, cv2.CHAIN_APPROX_SIMPLE)"
   ]
  },
  {
   "cell_type": "code",
   "execution_count": null,
   "id": "d7308e3a",
   "metadata": {},
   "outputs": [],
   "source": [
    "for i in range(len(hierarchy)):\n",
    "    if hierarchy[0][i][3] == -1:\n",
    "        cv2.drawContours(id_blured, countours, i, (255, 0,0), 10)\n",
    "    "
   ]
  },
  {
   "cell_type": "code",
   "execution_count": null,
   "id": "7c9d3af6",
   "metadata": {},
   "outputs": [],
   "source": [
    "_, thresh = cv2.threshold(img_gray, 0, 255, cv2.THRESH_BINARY + cv2.THRESH_OTSU)\n",
    "plt.imshow(thresh, cmap='gray')"
   ]
  },
  {
   "cell_type": "code",
   "execution_count": null,
   "id": "99120c12",
   "metadata": {},
   "outputs": [],
   "source": [
    "kernel = np.ones((3,3), np.uint8)"
   ]
  },
  {
   "cell_type": "code",
   "execution_count": null,
   "id": "4644dfa1",
   "metadata": {},
   "outputs": [],
   "source": [
    "opening = cv2.morphologyEx(thresh, cv2.MORPH_OPEN, kernel, iterations=2)"
   ]
  },
  {
   "cell_type": "code",
   "execution_count": null,
   "id": "9bfc78e1",
   "metadata": {},
   "outputs": [],
   "source": [
    "sure_bg = cv2.dilate(opening, kernel,  iterations=1)"
   ]
  },
  {
   "cell_type": "code",
   "execution_count": null,
   "id": "7eeb4e25",
   "metadata": {},
   "outputs": [],
   "source": [
    "dist_transform = cv2.distanceTransform(opening, cv2.DIST_L2, 3)"
   ]
  },
  {
   "cell_type": "code",
   "execution_count": null,
   "id": "8f32688b",
   "metadata": {},
   "outputs": [],
   "source": [
    "_, sure_fg = cv2.threshold(dist_transform, 0.1*dist_transform.max(), 255, 0)"
   ]
  },
  {
   "cell_type": "code",
   "execution_count": null,
   "id": "10baa76e",
   "metadata": {},
   "outputs": [],
   "source": [
    "sure_fg=np.uint8(sure_fg)\n",
    "sure_bg=np.uint8(sure_bg)"
   ]
  },
  {
   "cell_type": "code",
   "execution_count": null,
   "id": "7cc2f38c",
   "metadata": {},
   "outputs": [],
   "source": [
    "unknown_rigeon = cv2.subtract(sure_fg, sure_bg)"
   ]
  },
  {
   "cell_type": "code",
   "execution_count": null,
   "id": "4890800f",
   "metadata": {},
   "outputs": [],
   "source": [
    "ret, markers = cv2.connectedComponents(sure_bg)"
   ]
  },
  {
   "cell_type": "code",
   "execution_count": null,
   "id": "9442b3eb",
   "metadata": {},
   "outputs": [],
   "source": [
    "markers = markers+1"
   ]
  },
  {
   "cell_type": "code",
   "execution_count": null,
   "id": "1cc9bc20",
   "metadata": {},
   "outputs": [],
   "source": [
    "markers[unknown_rigeon==255] = 0"
   ]
  },
  {
   "cell_type": "code",
   "execution_count": null,
   "id": "7e8be0ae",
   "metadata": {},
   "outputs": [],
   "source": [
    "markers = cv2.watershed(id_blured, markers)"
   ]
  },
  {
   "cell_type": "code",
   "execution_count": null,
   "id": "c82589eb",
   "metadata": {},
   "outputs": [],
   "source": [
    "countours, hierarchy = cv2.findContours(markers.copy(), cv2.RETR_CCOMP, cv2.CHAIN_APPROX_SIMPLE)"
   ]
  },
  {
   "cell_type": "code",
   "execution_count": null,
   "id": "d7af4f2e",
   "metadata": {},
   "outputs": [],
   "source": [
    "plt.imshow(markers)"
   ]
  },
  {
   "cell_type": "code",
   "execution_count": null,
   "id": "e23cf66a",
   "metadata": {},
   "outputs": [],
   "source": [
    "id_blured = cv2.imread('id_clear.jpeg')\n",
    "for i in range(len(hierarchy)):\n",
    "    if hierarchy[0][i][3] == -1:\n",
    "        cv2.drawContours(id_blured, countours, i, (255, 0,0), 10)\n",
    "\n",
    "            \n",
    "plt.figure(figsize=(25,20))\n",
    "plt.imshow(id_blured)            "
   ]
  },
  {
   "cell_type": "code",
   "execution_count": null,
   "id": "4be4bd67",
   "metadata": {},
   "outputs": [],
   "source": [
    "id_blured = cv2.imread('id_clear.jpeg')\n",
    "coords = []\n",
    "for c in countours:\n",
    "    if cv2.contourArea(c) >= 100000 :\n",
    "        x,y,w,h = cv2.boundingRect(c)\n",
    "        cv2.rectangle(id_blured, (x, y), (x + w, y + h), (255, 0,0), 10)\n",
    "        center = (x,y, w, h)\n",
    "        coords.append(center)\n",
    "        print (center)\n",
    "plt.figure(figsize=(12,10))\n",
    "plt.imshow(id_blured)"
   ]
  },
  {
   "cell_type": "code",
   "execution_count": null,
   "id": "0f2acad4",
   "metadata": {},
   "outputs": [],
   "source": [
    "resized = cv2.resize(id_blured, (400, 300), cv2.INTER_LINEAR)"
   ]
  },
  {
   "cell_type": "code",
   "execution_count": null,
   "id": "353e8d57",
   "metadata": {},
   "outputs": [],
   "source": [
    "id1 = id_blured[790 : 790+761, 12: 12+1138]\n",
    "display(id1)"
   ]
  },
  {
   "cell_type": "code",
   "execution_count": null,
   "id": "f50691d7",
   "metadata": {},
   "outputs": [],
   "source": [
    "id2 = id_blured[282 : 282+510, 295: 295+709]"
   ]
  },
  {
   "cell_type": "code",
   "execution_count": null,
   "id": "96e31201",
   "metadata": {},
   "outputs": [],
   "source": [
    "display(id1)"
   ]
  },
  {
   "cell_type": "code",
   "execution_count": null,
   "id": "598036f4",
   "metadata": {},
   "outputs": [],
   "source": [
    "!pip install tesseract-ocr"
   ]
  },
  {
   "cell_type": "code",
   "execution_count": null,
   "id": "08a61aba",
   "metadata": {},
   "outputs": [],
   "source": [
    "def plot_coords(img, crds):\n",
    "    y = crds[1]\n",
    "    h = crds[3]\n",
    "    x = crds[0]\n",
    "    w = crds[2]\n",
    "    img = img[y: y+h, x: x+w]\n",
    "    return img\n",
    "    "
   ]
  },
  {
   "cell_type": "code",
   "execution_count": null,
   "id": "2559d8b1",
   "metadata": {},
   "outputs": [],
   "source": [
    "for i in range(len(coords)):\n",
    "#     plt.subplot(1, len(coords), i+1)\n",
    "    display(plot_coords(id_blured, coords[i]))"
   ]
  },
  {
   "cell_type": "code",
   "execution_count": null,
   "id": "e82912a7",
   "metadata": {},
   "outputs": [],
   "source": []
  },
  {
   "cell_type": "code",
   "execution_count": null,
   "id": "b8aed3b5",
   "metadata": {},
   "outputs": [],
   "source": [
    "import pytesseract"
   ]
  },
  {
   "cell_type": "code",
   "execution_count": null,
   "id": "2eb169c7",
   "metadata": {},
   "outputs": [],
   "source": [
    "# pytesseract.pytesseract.tesseract_cmd = r'C:\\Program Files (x86)\\Tesseract-OCR\\tesseract.exe'\n",
    "kernel = np.ones((3,3), np.uint8)\n",
    "gray = cv2.cvtColor(id1, cv2.COLOR_BGR2GRAY)\n",
    "blured = cv2.GaussianBlur(dilayed, (3,3),0)\n",
    "_, thresh = cv2.threshold(blured, 0, 255, cv2.THRESH_BINARY | cv2.THRESH_OTSU)\n",
    "eroded = cv2.erode(thresh, kernel, iterations=1)\n",
    "dilayed = cv2.dilate(eroded, kernel, iterations=1)\n",
    "\n",
    "# blured = cv2.GaussianBlur(dilayed, (3,3),0)\n",
    "s = pytesseract.image_to_string(dilayed, lang='eng', config='--psm 6')"
   ]
  },
  {
   "cell_type": "code",
   "execution_count": null,
   "id": "8400cabb",
   "metadata": {},
   "outputs": [],
   "source": [
    "display(blured)"
   ]
  },
  {
   "cell_type": "code",
   "execution_count": null,
   "id": "6c4b2faa",
   "metadata": {},
   "outputs": [],
   "source": [
    "gray = cv2.cvtColor(id_blured, cv2.COLOR_BGR2GRAY)\n",
    "blured = cv2.GaussianBlur(gray, (3,3), 5)\n",
    "# _, thresh = cv2.threshold(blured, 110, 255, cv2.THRESH_TOZERO)\n",
    "thresh = cv2.adaptiveThreshold(blured, 255, cv2.ADAPTIVE_THRESH_MEAN_C, cv2.THRESH_BINARY, 5, 13)\n",
    "eroded = cv2.erode(thresh, kernel, iterations=1)\n",
    "delaid = cv2.dilate(eroded, kernel, iterations=1)\n",
    "\n",
    "display(thresh)"
   ]
  },
  {
   "cell_type": "markdown",
   "id": "3abe8317",
   "metadata": {},
   "source": [
    "# Gamma Correction (brightness)"
   ]
  },
  {
   "cell_type": "code",
   "execution_count": null,
   "id": "80837362",
   "metadata": {},
   "outputs": [],
   "source": [
    "id_blured = cv2.imread('id_clear.jpeg', 0)"
   ]
  },
  {
   "cell_type": "code",
   "execution_count": null,
   "id": "5a241332",
   "metadata": {},
   "outputs": [],
   "source": [
    "gamma = 1/2"
   ]
  },
  {
   "cell_type": "code",
   "execution_count": null,
   "id": "fe94208d",
   "metadata": {},
   "outputs": [],
   "source": [
    "display(np.power(id_blured, gamma))\n"
   ]
  },
  {
   "cell_type": "code",
   "execution_count": null,
   "id": "0dd6ca4f",
   "metadata": {},
   "outputs": [],
   "source": [
    "display(id_blured)"
   ]
  },
  {
   "cell_type": "markdown",
   "id": "e7ee04d5",
   "metadata": {},
   "source": [
    "# smothing & bluring"
   ]
  },
  {
   "cell_type": "code",
   "execution_count": null,
   "id": "0e21f57c",
   "metadata": {},
   "outputs": [],
   "source": [
    "kernel = np.ones((5,5), dtype='float32')/25"
   ]
  },
  {
   "cell_type": "code",
   "execution_count": null,
   "id": "b55588c1",
   "metadata": {},
   "outputs": [],
   "source": [
    "kernel"
   ]
  },
  {
   "cell_type": "code",
   "execution_count": null,
   "id": "e017a136",
   "metadata": {},
   "outputs": [],
   "source": [
    "destination = cv2.filter2D(id_blured, -1, kernel)"
   ]
  },
  {
   "cell_type": "code",
   "execution_count": null,
   "id": "8bb154a9",
   "metadata": {},
   "outputs": [],
   "source": [
    "display(destination)"
   ]
  },
  {
   "cell_type": "code",
   "execution_count": null,
   "id": "c617e398",
   "metadata": {},
   "outputs": [],
   "source": [
    "media_blur = cv2.medianBlur(id_blured, 5) #5 stand for kenel size (5,5)"
   ]
  },
  {
   "cell_type": "code",
   "execution_count": null,
   "id": "691d64c1",
   "metadata": {},
   "outputs": [],
   "source": [
    "display(id_blured)"
   ]
  },
  {
   "cell_type": "code",
   "execution_count": null,
   "id": "a64e6fce",
   "metadata": {},
   "outputs": [],
   "source": [
    "filtered = cv2.bilateralFilter(id_blured, 9, 75, 75) #blur image with kiping edges sharp"
   ]
  },
  {
   "cell_type": "code",
   "execution_count": null,
   "id": "c2940a21",
   "metadata": {},
   "outputs": [],
   "source": [
    "display(filtered)"
   ]
  },
  {
   "cell_type": "markdown",
   "id": "1f7ca23a",
   "metadata": {},
   "source": [
    "# Morphological operations"
   ]
  },
  {
   "cell_type": "code",
   "execution_count": null,
   "id": "4d56cf5c",
   "metadata": {},
   "outputs": [],
   "source": [
    "kernel = np.ones((3,3), np.uint8)"
   ]
  },
  {
   "cell_type": "code",
   "execution_count": null,
   "id": "cf59d2cd",
   "metadata": {},
   "outputs": [],
   "source": [
    "kernel"
   ]
  },
  {
   "cell_type": "code",
   "execution_count": null,
   "id": "4170c112",
   "metadata": {},
   "outputs": [],
   "source": [
    "result = cv2.erode(id_blured, kernel, iterations=1)"
   ]
  },
  {
   "cell_type": "code",
   "execution_count": null,
   "id": "333c7af3",
   "metadata": {},
   "outputs": [],
   "source": [
    "display(result)"
   ]
  },
  {
   "cell_type": "markdown",
   "id": "6a186acb",
   "metadata": {},
   "source": [
    "# opening goes after dilation. opening removes background noise"
   ]
  },
  {
   "cell_type": "code",
   "execution_count": null,
   "id": "7b529c5a",
   "metadata": {},
   "outputs": [],
   "source": [
    "dilated = cv2.dilate(id_blured, kernel, iterations=1)"
   ]
  },
  {
   "cell_type": "code",
   "execution_count": null,
   "id": "0945b5e3",
   "metadata": {},
   "outputs": [],
   "source": [
    "display(dilated)"
   ]
  },
  {
   "cell_type": "code",
   "execution_count": null,
   "id": "af7bc4b2",
   "metadata": {},
   "outputs": [],
   "source": [
    "opened = cv2.morphologyEx(thresh, cv2.MORPH_OPEN, kernel)"
   ]
  },
  {
   "cell_type": "code",
   "execution_count": null,
   "id": "ddf1bc86",
   "metadata": {},
   "outputs": [],
   "source": [
    "display(opened)"
   ]
  },
  {
   "cell_type": "markdown",
   "id": "6cc0d5dc",
   "metadata": {},
   "source": [
    "# Closing removes fortground noise¶"
   ]
  },
  {
   "cell_type": "code",
   "execution_count": null,
   "id": "2985be41",
   "metadata": {},
   "outputs": [],
   "source": [
    "closed = cv2.morphologyEx(thresh, cv2.MORPH_CLOSE, kernel)"
   ]
  },
  {
   "cell_type": "code",
   "execution_count": null,
   "id": "4d1a1c64",
   "metadata": {},
   "outputs": [],
   "source": [
    "display(closed)"
   ]
  },
  {
   "cell_type": "markdown",
   "id": "e334bde9",
   "metadata": {},
   "source": [
    "# morphological greadient takes differnce betwen erosion and dilation"
   ]
  },
  {
   "cell_type": "code",
   "execution_count": null,
   "id": "69d1c34a",
   "metadata": {},
   "outputs": [],
   "source": [
    "\n",
    "gradient = cv2.morphologyEx(thresh, cv2.MORPH_GRADIENT, kernel)\n",
    "display(gradient)"
   ]
  },
  {
   "cell_type": "code",
   "execution_count": null,
   "id": "35510d2f",
   "metadata": {},
   "outputs": [],
   "source": [
    "display(cv2.medianBlur(gradient, 3))"
   ]
  },
  {
   "cell_type": "code",
   "execution_count": null,
   "id": "2affacd0",
   "metadata": {},
   "outputs": [],
   "source": [
    "sobely = cv2.Sobel(id_blured, cv2.CV_64F, 1, 0, ksize=5)\n",
    "sobelx = cv2.Sobel(id_blured, cv2.CV_64F, 0, 1, ksize=5)"
   ]
  },
  {
   "cell_type": "code",
   "execution_count": null,
   "id": "fb8950d4",
   "metadata": {},
   "outputs": [],
   "source": [
    "display(sobely)"
   ]
  },
  {
   "cell_type": "markdown",
   "id": "78ea3e93",
   "metadata": {},
   "source": [
    "# Laplacian"
   ]
  },
  {
   "cell_type": "code",
   "execution_count": null,
   "id": "78a0f2f2",
   "metadata": {},
   "outputs": [],
   "source": [
    "laplacian = cv2.Laplacian(thresh, cv2.CV_64F)"
   ]
  },
  {
   "cell_type": "code",
   "execution_count": null,
   "id": "77ed9e79",
   "metadata": {},
   "outputs": [],
   "source": [
    "display(laplacian)"
   ]
  },
  {
   "cell_type": "code",
   "execution_count": null,
   "id": "92c36479",
   "metadata": {},
   "outputs": [],
   "source": [
    "blended = cv2.addWeighted(src1=sobelx, alpha=0.5, src2=sobely, beta=0.5, gamma=0)"
   ]
  },
  {
   "cell_type": "code",
   "execution_count": null,
   "id": "6d626636",
   "metadata": {},
   "outputs": [],
   "source": [
    "display(blended)"
   ]
  },
  {
   "cell_type": "markdown",
   "id": "ac8a2282",
   "metadata": {},
   "source": [
    "# Histograms"
   ]
  },
  {
   "cell_type": "code",
   "execution_count": null,
   "id": "c4d45a2c",
   "metadata": {},
   "outputs": [],
   "source": [
    "hist = cv2.calcHist([id_blured], channels=[0], mask=None, histSize=[256], ranges=[0,256]) \n",
    "#[0] stands for B in BGR. Mask if we want to take hist of some images region"
   ]
  },
  {
   "cell_type": "code",
   "execution_count": null,
   "id": "5c3a06a1",
   "metadata": {},
   "outputs": [],
   "source": [
    "plt.plot(hist)"
   ]
  },
  {
   "cell_type": "code",
   "execution_count": null,
   "id": "ddc6731e",
   "metadata": {},
   "outputs": [],
   "source": []
  },
  {
   "cell_type": "code",
   "execution_count": null,
   "id": "6f555486",
   "metadata": {},
   "outputs": [],
   "source": []
  },
  {
   "cell_type": "code",
   "execution_count": null,
   "id": "234d5503",
   "metadata": {},
   "outputs": [],
   "source": []
  },
  {
   "cell_type": "code",
   "execution_count": null,
   "id": "31e38044",
   "metadata": {},
   "outputs": [],
   "source": []
  }
 ],
 "metadata": {
  "kernelspec": {
   "display_name": "Python 3 (ipykernel)",
   "language": "python",
   "name": "python3"
  },
  "language_info": {
   "codemirror_mode": {
    "name": "ipython",
    "version": 3
   },
   "file_extension": ".py",
   "mimetype": "text/x-python",
   "name": "python",
   "nbconvert_exporter": "python",
   "pygments_lexer": "ipython3",
   "version": "3.9.7"
  }
 },
 "nbformat": 4,
 "nbformat_minor": 5
}
